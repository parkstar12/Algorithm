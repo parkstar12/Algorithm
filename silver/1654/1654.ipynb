{
 "cells": [
  {
   "cell_type": "code",
   "execution_count": null,
   "metadata": {},
   "outputs": [
    {
     "name": "stdout",
     "output_type": "stream",
     "text": [
      "200\n"
     ]
    }
   ],
   "source": [
    "N,M=map(int,input().split())\n",
    "wides=[int(input()) for _ in range(N)]\n",
    "\n",
    "wides.sort()\n",
    "start=1\n",
    "end=max(wides)\n",
    "\n",
    "while start <= end:\n",
    "  mid=(start+end)//2\n",
    "  count=0\n",
    "  for wide in wides:\n",
    "    count += wide//mid\n",
    "    \n",
    "  if count >= M:\n",
    "    start = mid+1\n",
    "  else:\n",
    "    end = mid-1\n",
    "    \n",
    "print(end)"
   ]
  }
 ],
 "metadata": {
  "kernelspec": {
   "display_name": "Python 3",
   "language": "python",
   "name": "python3"
  },
  "language_info": {
   "codemirror_mode": {
    "name": "ipython",
    "version": 3
   },
   "file_extension": ".py",
   "mimetype": "text/x-python",
   "name": "python",
   "nbconvert_exporter": "python",
   "pygments_lexer": "ipython3",
   "version": "3.11.9"
  }
 },
 "nbformat": 4,
 "nbformat_minor": 2
}
