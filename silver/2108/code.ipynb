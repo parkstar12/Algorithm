N = int(input())
number = [int(input()) for _ in range(N)]

# 1. 평균값 (소수 첫째 자리까지 출력)
average = int(round(sum(number) / N, 0))
print(average)

# 2. 중앙값 (N이 홀수일 때 가운데 값, 짝수일 때 중간 두 값의 평균)
number.sort()
median = number[N // 2]
print(median)

# 3. 최빈값 계산
# 빈도수 계산 (빈도수 딕셔너리 사용)
count={}
for num in number:
  if num in count:
    count[num]+=1
  else :
    count[num]=0

# 최빈값 후보들 (빈도수가 가장 높은 값들)
max_count=max(count.values())
mode=[key for key,value in count.items() if value==max_count]

mode.sort()
if len(mode)==1:
  print(mode[0])
else :
  print(mode[1])

# 4. 범위 계산 (최댓값 - 최솟값)
range_value = max(number) - min(number)
print(range_value)
