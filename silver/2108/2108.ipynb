{
 "cells": [
  {
   "cell_type": "code",
   "execution_count": null,
   "metadata": {},
   "outputs": [],
   "source": [
    "N = int(input())\n",
    "number = [int(input()) for _ in range(N)]\n",
    "\n",
    "# 1. 평균값 (소수 첫째 자리까지 출력)\n",
    "average = int(round(sum(number) / N, 0))\n",
    "print(average)\n",
    "\n",
    "# 2. 중앙값 (N이 홀수일 때 가운데 값, 짝수일 때 중간 두 값의 평균)\n",
    "number.sort()\n",
    "median = number[N // 2]\n",
    "print(median)\n",
    "\n",
    "# 3. 최빈값 계산\n",
    "# 빈도수 계산 (빈도수 딕셔너리 사용)\n",
    "count={}\n",
    "for num in number:\n",
    "  if num in count:\n",
    "    count[num]+=1\n",
    "  else :\n",
    "    count[num]=0\n",
    "\n",
    "# 최빈값 후보들 (빈도수가 가장 높은 값들)\n",
    "max_count=max(count.values())\n",
    "mode=[key for key,value in count.items() if value==max_count]\n",
    "\n",
    "mode.sort()\n",
    "if len(mode)==1:\n",
    "  print(mode[0])\n",
    "else :\n",
    "  print(mode[1])\n",
    "\n",
    "# 4. 범위 계산 (최댓값 - 최솟값)\n",
    "range_value = max(number) - min(number)\n",
    "print(range_value)\n"
   ]
  }
 ],
 "metadata": {
  "language_info": {
   "name": "python"
  }
 },
 "nbformat": 4,
 "nbformat_minor": 2
}
