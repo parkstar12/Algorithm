{
 "cells": [
  {
   "cell_type": "code",
   "execution_count": null,
   "metadata": {},
   "outputs": [
    {
     "name": "stdout",
     "output_type": "stream",
     "text": [
      "9 : 0\n",
      "8 : 0\n",
      "6 : 20\n",
      "5 : 40\n",
      "4 : 50\n",
      "3 : 60\n",
      "2 : 70\n",
      "1 : 80\n",
      "0 : 90\n",
      "90\n"
     ]
    }
   ],
   "source": [
    "N=int(input())\n",
    "week=[list(map(int,input().split())) for _ in range(N)]\n",
    "result=[0]*N\n",
    "\n",
    "for i in range(N-1,-1,-1):\n",
    "  day,money=week.pop(i)\n",
    "  if day+i-1 == N-1: #마지막날에 상담이 끝날경우\n",
    "    result[i]=money\n",
    "  elif day+i-1 > N-1 : #마지막날 초과 했을 때 경우\n",
    "    result[i]=0\n",
    "  else: #마지막날전에 끝날 경우\n",
    "    result[i]=money+max(result[day+i:])\n",
    "print(max(result))\n",
    "#상담이 마지막날에 끝날 경우 마지막날의 값을 추가해야한다고 생각을 했음 \n",
    "#근데 마지막날을 더하면 안됨"
   ]
  },
  {
   "cell_type": "code",
   "execution_count": null,
   "metadata": {},
   "outputs": [
    {
     "name": "stdout",
     "output_type": "stream",
     "text": [
      "[90, 80, 70, 60, 50, 40, 20, 30, 0, 0]\n"
     ]
    }
   ],
   "source": [
    "#통과\n",
    "N=int(input())\n",
    "week=[list(map(int,input().split())) for _ in range(N)]\n",
    "result=[0]*(N+1)\n",
    "\n",
    "for i in range(N-1,-1,-1):\n",
    "  day,money=week.pop(i)\n",
    "  if day+i > N:\n",
    "    result[i]=0\n",
    "  else:\n",
    "    result[i]=money+max(result[day+i:])\n",
    "print(max(result))"
   ]
  }
 ],
 "metadata": {
  "kernelspec": {
   "display_name": "Python 3",
   "language": "python",
   "name": "python3"
  },
  "language_info": {
   "codemirror_mode": {
    "name": "ipython",
    "version": 3
   },
   "file_extension": ".py",
   "mimetype": "text/x-python",
   "name": "python",
   "nbconvert_exporter": "python",
   "pygments_lexer": "ipython3",
   "version": "3.11.9"
  }
 },
 "nbformat": 4,
 "nbformat_minor": 2
}
