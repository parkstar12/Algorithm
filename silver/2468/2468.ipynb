{
 "cells": [
  {
   "cell_type": "code",
   "execution_count": null,
   "metadata": {},
   "outputs": [
    {
     "name": "stdout",
     "output_type": "stream",
     "text": [
      "1\n"
     ]
    }
   ],
   "source": [
    "import sys\n",
    "sys.setrecursionlimit(150000)  \n",
    "\n",
    "def solve(height_map):\n",
    "  \n",
    "  while height_map:\n",
    "    x,y=height_map.pop()\n",
    "    # 재귀를 반복문으로 바꾼뒤 돌렸을 때 이 한줄로 인해 시간초과가 나왔다. \n",
    "    # 이유 : 반복문 코드에서는 필요가 없는 코드이고 다시 set에 추가하면 무한 반복이 될수 있다...\n",
    "    # 기존 재귀 코드에서는 remove를 해주기 위해 add를 다시 추가 하였다. pop을 하면 이미 존재하지 않으므로\n",
    "    # height_map.add((x,y))\n",
    "    \n",
    "    count[1] += 1\n",
    "    solution(x,y)\n",
    "\n",
    "  \n",
    "def solution(x,y):\n",
    "  stack=set()\n",
    "  stack.add((x,y))\n",
    "  while stack :\n",
    "    x,y=stack.pop()\n",
    "    for i in range(4) :\n",
    "      xx=x+dx[i]\n",
    "      yy=y+dy[i]\n",
    "      if 0 <= xx < N and 0 <= yy < N and (xx,yy) in height_map :\n",
    "        height_map.remove((xx,yy))\n",
    "        stack.add((xx,yy))\n",
    "  \n",
    "  # 깊은 재귀가 발생하여 오류, 재귀 수를 늘려도 메모리 초과로 인한 실패\n",
    "  # -> 해결법 재귀를 반복문으로 풀어서 사용한다.\n",
    "  \n",
    "  # if (x,y) in height_map :\n",
    "  #   height_map.remove((x,y))\n",
    "  #   for i in range(4) :\n",
    "  #     xx=x+dx[i]\n",
    "  #     yy=y+dy[i]\n",
    "  #     if 0 <= xx < N and 0 <= yy < N :\n",
    "  #       solution(xx,yy)\n",
    "  # else : \n",
    "  #   return\n",
    "  \n",
    "  \n",
    "\n",
    "N=int(input())\n",
    "word=[list(map(int,input().split())) for _ in range (N)]\n",
    "dx=[0,0,1,-1]\n",
    "dy=[1,-1,0,0]\n",
    "height_map=set()\n",
    "min_height = min(min(row) for row in word) \n",
    "max_height = max(max(row) for row in word)\n",
    "\n",
    "count=[0,0]\n",
    "\n",
    "for i in range(min_height-1,max_height):\n",
    "  height_map.clear()\n",
    "  for a in range(N):\n",
    "    for b in range(N):\n",
    "      if word[a][b] > i :\n",
    "        height_map.add((a,b))\n",
    "  solve(height_map)\n",
    "  count[0]=max(count[0],count[1])\n",
    "  count[1]=0\n",
    "  \n",
    "print(count[0])\n",
    "\n"
   ]
  },
  {
   "cell_type": "code",
   "execution_count": null,
   "metadata": {},
   "outputs": [],
   "source": [
    "\n",
    "N=int(input())\n",
    "word=[list(map(int,input().split())) for _ in range (N)]\n",
    "dx=[0,0,1,-1]\n",
    "dy=[1,-1,0,0]\n",
    "height_map=set()\n",
    "min_height = min(min(row) for row in word) \n",
    "max_height = max(max(row) for row in word)\n"
   ]
  },
  {
   "cell_type": "code",
   "execution_count": null,
   "metadata": {},
   "outputs": [],
   "source": [
    "#좌표 정렬후 인접한 좌표만 비교하는 방법"
   ]
  }
 ],
 "metadata": {
  "kernelspec": {
   "display_name": "Python 3",
   "language": "python",
   "name": "python3"
  },
  "language_info": {
   "codemirror_mode": {
    "name": "ipython",
    "version": 3
   },
   "file_extension": ".py",
   "mimetype": "text/x-python",
   "name": "python",
   "nbconvert_exporter": "python",
   "pygments_lexer": "ipython3",
   "version": "3.11.9"
  }
 },
 "nbformat": 4,
 "nbformat_minor": 2
}
