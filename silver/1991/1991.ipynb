{
 "cells": [
  {
   "cell_type": "code",
   "execution_count": null,
   "id": "a8b9230d",
   "metadata": {},
   "outputs": [],
   "source": [
    "N = int(input())\n",
    "tree = {}\n",
    "\n",
    "for _ in range(N):\n",
    "    root, left, right = input().split()\n",
    "    tree[root] = [left, right]\n",
    "\n",
    "print(tree)\n"
   ]
  },
  {
   "cell_type": "code",
   "execution_count": null,
   "id": "3aaaad55",
   "metadata": {},
   "outputs": [
    {
     "name": "stdout",
     "output_type": "stream",
     "text": [
      "['A', 'B', 'D', 'C', 'E', 'F', 'G']\n"
     ]
    },
    {
     "ename": "",
     "evalue": "",
     "output_type": "error",
     "traceback": [
      "\u001b[1;31m현재 셀 또는 이전 셀에서 코드를 실행하는 동안 Kernel이 충돌했습니다. \n",
      "\u001b[1;31m셀의 코드를 검토하여 가능한 오류 원인을 식별하세요. \n",
      "\u001b[1;31m자세한 내용을 보려면 <a href='https://aka.ms/vscodeJupyterKernelCrash'>여기</a>를 클릭하세요. \n",
      "\u001b[1;31m자세한 내용은 Jupyter <a href='command:jupyter.viewOutput'>로그</a>를 참조하세요."
     ]
    }
   ],
   "source": [
    "def solve_first(root):\n",
    "  result.append(root)\n",
    "  if root in tree:\n",
    "    left,right=tree[root]\n",
    "    if left in tree:\n",
    "      solve_first(left)\n",
    "    if right in tree:\n",
    "      solve_first(right)\n",
    "\n",
    "\n",
    "N=int(input())\n",
    "tree={}\n",
    "\n",
    "for i in range(N):\n",
    "  root,left,right=input().split()\n",
    "  if root in tree:\n",
    "    tree[root].extend(left,right)\n",
    "  else :\n",
    "    tree[root] = [left, right]\n",
    "result=[]\n",
    "solve_first('A')\n",
    "print(result)"
   ]
  }
 ],
 "metadata": {
  "kernelspec": {
   "display_name": "Python 3",
   "language": "python",
   "name": "python3"
  },
  "language_info": {
   "codemirror_mode": {
    "name": "ipython",
    "version": 3
   },
   "file_extension": ".py",
   "mimetype": "text/x-python",
   "name": "python",
   "nbconvert_exporter": "python",
   "pygments_lexer": "ipython3",
   "version": "3.13.2"
  }
 },
 "nbformat": 4,
 "nbformat_minor": 5
}
