{
 "cells": [
  {
   "cell_type": "code",
   "execution_count": null,
   "id": "7920136e",
   "metadata": {},
   "outputs": [],
   "source": [
    "T = int(input())\n",
    "\n",
    "for _ in range(T):\n",
    "  # 1) 보드 입력\n",
    "  board = [list(map(int, input().split())) for _ in range(100)]\n",
    "  answer = 0\n",
    "\n",
    "  # 2) 맨 위(0행)에서 출발점 후보 찾기\n",
    "  for start in range(100):\n",
    "    if board[0][start] != 1:\n",
    "      continue\n",
    "\n",
    "    x, y = 0, start\n",
    "    # 3) 사다리 따라 내려가기\n",
    "    while x < 99:  \n",
    "      # (1) 왼쪽으로 갈 수 있으면 끝까지 타고 가기\n",
    "      if y > 0 and board[x][y-1] == 1:\n",
    "        while y > 0 and board[x][y-1] == 1:\n",
    "          y -= 1\n",
    "      # (2) 아니면 오른쪽으로 갈 수 있으면 끝까지 타고 가기\n",
    "      elif y < 99 and board[x][y+1] == 1:\n",
    "        while y < 99 and board[x][y+1] == 1:\n",
    "          y += 1\n",
    "      # (3) 좌우 모두 막혔으면 아래로 한 칸\n",
    "      x += 1\n",
    "    # 4) 맨 아래(99행)에서 2를 만났으면 정답 확정\n",
    "    if board[x][y] == 2:\n",
    "      answer = start\n",
    "      break\n",
    "    # 5) 결과 출력\n",
    "  print(answer)\n"
   ]
  },
  {
   "cell_type": "code",
   "execution_count": null,
   "id": "61bdb0e5",
   "metadata": {},
   "outputs": [],
   "source": [
    "for _ in range(10):\n",
    "    N=int(input())\n",
    "    board=[list(map(int,input().split())) for _ in range(100)]\n",
    "    starts=[]\n",
    "    for j in range(100):\n",
    "        if board[0][j]==1:\n",
    "            starts.append(j)\n",
    "    \n",
    "    for i in range(len(starts)):\n",
    "        x=1\n",
    "        y=starts[i]\n",
    "        while x<99:\n",
    "            if y < 99 and board[x][y+1]==1:\n",
    "                while y < 99 and  board[x][y+1] == 1:\n",
    "                    y+=1\n",
    "            elif y > 0 and board[x][y-1]==1:\n",
    "                while y > 0 and  board[x][y-1] == 1:\n",
    "                    y-=1\n",
    "            x+=1\n",
    "        if board[x][y]==2:\n",
    "            print(f\"#{N} {starts[i]}\")\n",
    "            break\n",
    "\n",
    "\n"
   ]
  }
 ],
 "metadata": {
  "language_info": {
   "name": "python"
  }
 },
 "nbformat": 4,
 "nbformat_minor": 5
}
