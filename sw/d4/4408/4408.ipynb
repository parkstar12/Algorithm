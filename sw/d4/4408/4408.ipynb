{
 "cells": [
  {
   "cell_type": "code",
   "execution_count": null,
   "id": "1eac6468",
   "metadata": {},
   "outputs": [
    {
     "name": "stdout",
     "output_type": "stream",
     "text": [
      "deque([[2, 200]])\n",
      "#1 2\n"
     ]
    }
   ],
   "source": [
    "from collections import deque\n",
    "T=int(input())\n",
    "for t in range(T):\n",
    "  N=int(input())\n",
    "  students=[list(map(int,input().split())) for _ in range(N)]\n",
    "  students.sort()\n",
    "  students=deque(students)\n",
    "  count=1\n",
    "  # stack=deque()\n",
    "  # stack.append(students.popleft)\n",
    "  before,after=students.popleft()\n",
    "  while students:\n",
    "    before2,after2=students.popleft()\n",
    "    if after<before2:\n",
    "      before=before2\n",
    "      after=after2\n",
    "      continue\n",
    "    else:\n",
    "      if len(students)>1:\n",
    "        students.append([before2,after2])\n",
    "      count+=1\n",
    "\n",
    "  print(f\"#{t+1} {count}\")"
   ]
  }
 ],
 "metadata": {
  "kernelspec": {
   "display_name": "Python 3",
   "language": "python",
   "name": "python3"
  },
  "language_info": {
   "codemirror_mode": {
    "name": "ipython",
    "version": 3
   },
   "file_extension": ".py",
   "mimetype": "text/x-python",
   "name": "python",
   "nbconvert_exporter": "python",
   "pygments_lexer": "ipython3",
   "version": "3.13.2"
  }
 },
 "nbformat": 4,
 "nbformat_minor": 5
}
