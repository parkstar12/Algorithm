{
 "cells": [
  {
   "cell_type": "code",
   "execution_count": null,
   "id": "83dd49e4",
   "metadata": {},
   "outputs": [
    {
     "name": "stdout",
     "output_type": "stream",
     "text": [
      "[[1, 6, 3, 16, 21], [2, 7, 8, 17, 22], [11, 12, 13, 18, 23], [4, 9, 14, 19, 24], [5, 10, 15, 20, 25]]\n",
      "[[1, 2, 11, 4, 21], [6, 7, 12, 9, 22], [3, 8, 13, 14, 23], [16, 17, 18, 19, 24], [5, 10, 15, 20, 25]]\n",
      "[[1, 6, 3, 16, 21], [2, 7, 8, 17, 22], [11, 12, 13, 18, 23], [4, 9, 14, 19, 24], [5, 10, 15, 20, 25]]\n",
      "[[1, 2, 11, 4, 21], [6, 7, 12, 9, 22], [3, 8, 13, 14, 23], [16, 17, 18, 19, 24], [5, 10, 15, 20, 25]]\n",
      "[[1, 6, 3, 4, 21], [2, 7, 8, 9, 22], [11, 12, 13, 14, 23], [16, 17, 18, 19, 24], [5, 10, 15, 20, 25]]\n",
      "[[1, 2, 3, 4, 21], [6, 7, 8, 9, 22], [11, 12, 13, 14, 23], [16, 17, 18, 19, 24], [5, 10, 15, 20, 25]]\n",
      "[[1, 2, 3, 4, 21], [6, 7, 8, 9, 22], [11, 12, 13, 14, 23], [16, 17, 18, 19, 24], [5, 10, 15, 20, 25]]\n",
      "[[1, 2, 3, 4, 21], [6, 7, 8, 9, 22], [11, 12, 13, 14, 23], [16, 17, 18, 19, 24], [5, 10, 15, 20, 25]]\n",
      "8\n"
     ]
    }
   ],
   "source": [
    "def trans(x):\n",
    "  for a in range(x):\n",
    "    for b in range(a):\n",
    "      board[a][b],board[b][a]=board[b][a],board[a][b]\n",
    "  \n",
    "  \n",
    "  \n",
    "T=int(input())\n",
    "for _ in range(T):\n",
    "  N=int(input())\n",
    "  board=[list(map(int,input().split()))for _ in range(N)]\n",
    "  value=N*N\n",
    "  count=0\n",
    "  for i in range(N-1,-1,-1):\n",
    "    for j in range(N-1,-1,-1):\n",
    "      if value!=board[i][j]:\n",
    "        trans(i+1)\n",
    "        count+=1\n",
    "      value-=1\n",
    "  print(count)"
   ]
  },
  {
   "cell_type": "code",
   "execution_count": null,
   "id": "6cfc6ea6",
   "metadata": {},
   "outputs": [],
   "source": []
  }
 ],
 "metadata": {
  "kernelspec": {
   "display_name": "Python 3",
   "language": "python",
   "name": "python3"
  },
  "language_info": {
   "codemirror_mode": {
    "name": "ipython",
    "version": 3
   },
   "file_extension": ".py",
   "mimetype": "text/x-python",
   "name": "python",
   "nbconvert_exporter": "python",
   "pygments_lexer": "ipython3",
   "version": "3.11.9"
  }
 },
 "nbformat": 4,
 "nbformat_minor": 5
}
