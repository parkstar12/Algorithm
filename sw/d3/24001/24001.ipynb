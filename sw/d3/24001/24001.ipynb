{
 "cells": [
  {
   "cell_type": "code",
   "execution_count": null,
   "id": "a23f5367",
   "metadata": {},
   "outputs": [
    {
     "name": "stdout",
     "output_type": "stream",
     "text": [
      "[]\n"
     ]
    }
   ],
   "source": [
    "T = int(input())\n",
    "for _ in range(T):\n",
    "    S = input()\n",
    "    length = len(S)\n",
    "    dp = [{} for _ in range(length + 1)]\n",
    "    dp[0][0] = 0  # 시작: 위치 0, 최대 거리 0\n",
    "\n",
    "    for i in range(length):\n",
    "        ch = S[i]\n",
    "        for pos in dp[i]:\n",
    "            max_dist = dp[i][pos]\n",
    "\n",
    "            if ch == 'L':\n",
    "                new_pos = pos - 1\n",
    "                dp[i+1][new_pos] = max(abs(new_pos), dp[i+1].get(new_pos, 0), max_dist)\n",
    "            elif ch == 'R':\n",
    "                new_pos = pos + 1\n",
    "                dp[i+1][new_pos] = max(abs(new_pos), dp[i+1].get(new_pos, 0), max_dist)\n",
    "            else:  # '?'\n",
    "                # 선택지: L\n",
    "                new_pos = pos - 1\n",
    "                dp[i+1][new_pos] = max(abs(new_pos), dp[i+1].get(new_pos, 0), max_dist)\n",
    "                # 선택지: R\n",
    "                new_pos = pos + 1\n",
    "                dp[i+1][new_pos] = max(abs(new_pos), dp[i+1].get(new_pos, 0), max_dist)\n",
    "\n",
    "    result = max(dp[length].values())\n",
    "    print(result)\n"
   ]
  }
 ],
 "metadata": {
  "kernelspec": {
   "display_name": "Python 3",
   "language": "python",
   "name": "python3"
  },
  "language_info": {
   "codemirror_mode": {
    "name": "ipython",
    "version": 3
   },
   "file_extension": ".py",
   "mimetype": "text/x-python",
   "name": "python",
   "nbconvert_exporter": "python",
   "pygments_lexer": "ipython3",
   "version": "undefined.undefined.undefined"
  }
 },
 "nbformat": 4,
 "nbformat_minor": 5
}
