{
 "cells": [
  {
   "cell_type": "code",
   "execution_count": null,
   "id": "70215082",
   "metadata": {},
   "outputs": [],
   "source": [
    "def dfs(number, try_count):\n",
    "    global count, result, M\n",
    "\n",
    "    if try_count == count:\n",
    "        max_num = int(''.join(map(str, number)))\n",
    "        if result < max_num:\n",
    "            result = max_num\n",
    "        return\n",
    "\n",
    "    for i in range(M):\n",
    "        for j in range(i+1, M):\n",
    "            number[i], number[j] = number[j], number[i]\n",
    "            key = (tuple(number), try_count)\n",
    "            if key not in vs:\n",
    "                vs.add(key)\n",
    "                dfs(number, try_count + 1)\n",
    "            number[i], number[j] = number[j], number[i]\n",
    "\n",
    "\n",
    "T = int(input())\n",
    "for t in range(T):\n",
    "    num, count = map(int, input().split())\n",
    "    number = list(map(int, str(num)))\n",
    "    M = len(number)\n",
    "    result = 0\n",
    "    vs = set()\n",
    "    dfs(number, 0)\n",
    "    print(f\"#{t+1} {result}\")\n"
   ]
  }
 ],
 "metadata": {
  "language_info": {
   "name": "python"
  }
 },
 "nbformat": 4,
 "nbformat_minor": 5
}
