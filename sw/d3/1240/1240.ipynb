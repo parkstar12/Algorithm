{
 "cells": [
  {
   "cell_type": "code",
   "execution_count": null,
   "id": "2dbe7212",
   "metadata": {},
   "outputs": [
    {
     "name": "stdout",
     "output_type": "stream",
     "text": [
      "[7, 5, 7, 5, 5, 0, 2, 7]\n",
      "72\n",
      "#1 0\n"
     ]
    }
   ],
   "source": [
    "def encoding(e_string):\n",
    "  if e_string == \"0111011\" :\n",
    "    return 7\n",
    "  elif e_string == \"0011001\":\n",
    "    return 1\n",
    "  elif e_string == \"0001101\":\n",
    "    return 0\n",
    "  elif e_string == \"0010011\":\n",
    "    return 2\n",
    "  elif e_string == \"0111101\":\n",
    "    return 3\n",
    "  elif e_string == \"0100011\":\n",
    "    return 4\n",
    "  elif e_string == \"0110001\":\n",
    "    return 5\n",
    "  elif e_string == \"0101111\":\n",
    "    return 6\n",
    "  elif e_string == \"0110111\":\n",
    "    return 8\n",
    "  elif e_string == \"0001011\":\n",
    "    return 9\n",
    "  e\n",
    "\n",
    "T=int(input())\n",
    "for t in range(T):\n",
    "  N,M=map(int,input().split())\n",
    "  board=[]\n",
    "  for _ in range(N):\n",
    "    board.extend(map(int,input()))\n",
    "\n",
    "  encode=[]\n",
    "  for i in range(N*M-1,-1,-1):\n",
    "    if board[i] == 1 :\n",
    "      encode.extend(board[i-55:i+1])\n",
    "      break\n",
    "  result=[]\n",
    "  for a in range(0,56,7):\n",
    "    result.append(encoding(''.join(map(str,encode[a:a+7]))))\n",
    "  \n",
    "  code=0\n",
    "\n",
    "  for r in range(len(result)):\n",
    "    if r%2==0:\n",
    "      code+=result[r]*3\n",
    "    else:\n",
    "      code+=result[r]\n",
    "  if code%10 == 0:\n",
    "    print(f\"#{t+1} {sum(result)}\")\n",
    "  else:\n",
    "    print(f\"#{t+1} 0\")\n",
    "    \n",
    "    "
   ]
  }
 ],
 "metadata": {
  "kernelspec": {
   "display_name": "Python 3",
   "language": "python",
   "name": "python3"
  },
  "language_info": {
   "codemirror_mode": {
    "name": "ipython",
    "version": 3
   },
   "file_extension": ".py",
   "mimetype": "text/x-python",
   "name": "python",
   "nbconvert_exporter": "python",
   "pygments_lexer": "ipython3",
   "version": "3.13.2"
  }
 },
 "nbformat": 4,
 "nbformat_minor": 5
}
