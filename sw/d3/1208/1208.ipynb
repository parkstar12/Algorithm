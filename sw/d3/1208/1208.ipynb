{
 "cells": [
  {
   "cell_type": "code",
   "execution_count": null,
   "id": "a71a7f49",
   "metadata": {},
   "outputs": [
    {
     "ename": "IndentationError",
     "evalue": "expected an indented block after 'while' statement on line 11 (1948156257.py, line 13)",
     "output_type": "error",
     "traceback": [
      "\u001b[1;36m  Cell \u001b[1;32mIn[1], line 13\u001b[1;36m\u001b[0m\n\u001b[1;33m    if number[1] < number[0]:\u001b[0m\n\u001b[1;37m    ^\u001b[0m\n\u001b[1;31mIndentationError\u001b[0m\u001b[1;31m:\u001b[0m expected an indented block after 'while' statement on line 11\n"
     ]
    },
    {
     "ename": "",
     "evalue": "",
     "output_type": "error",
     "traceback": [
      "\u001b[1;31m현재 셀 또는 이전 셀에서 코드를 실행하는 동안 Kernel이 충돌했습니다. \n",
      "\u001b[1;31m셀의 코드를 검토하여 가능한 오류 원인을 식별하세요. \n",
      "\u001b[1;31m자세한 내용을 보려면 <a href='https://aka.ms/vscodeJupyterKernelCrash'>여기</a>를 클릭하세요. \n",
      "\u001b[1;31m자세한 내용은 Jupyter <a href='command:jupyter.viewOutput'>로그</a>를 참조하세요."
     ]
    }
   ],
   "source": [
    "result=[]\n",
    "for t in range(10):\n",
    "  dump=int(input())\n",
    "  number=list(map(int,input().split()))\n",
    "  number.sort()\n",
    "  for count in range(dump):\n",
    "    number[99] -= 1\n",
    "    number[0] += 1\n",
    "    # 최대값 이동 (오른쪽에서 왼쪽으로 밀기)\n",
    "    for i in range(98, -1, -1):\n",
    "        if number[i] > number[i + 1]:\n",
    "            number[i], number[i + 1] = number[i + 1], number[i]\n",
    "        else:\n",
    "            break  # 이미 정렬된 상태면 중단\n",
    "    # 최소값 이동 (왼쪽에서 오른쪽으로 밀기)\n",
    "    for j in range(1, 100):\n",
    "        if number[j - 1] > number[j]:\n",
    "            number[j - 1], number[j] = number[j], number[j - 1]\n",
    "        else:\n",
    "            break\n",
    "\n",
    "  result.append(number[99]-number[0])\n",
    "for i in range(10):\n",
    "    print(f\"#{i+1} {result[i]}\")\n"
   ]
  },
  {
   "cell_type": "code",
   "execution_count": null,
   "id": "d85a5cd2",
   "metadata": {},
   "outputs": [],
   "source": [
    "result=[]\n",
    "for t in range(10):\n",
    "  dump=int(input())\n",
    "  number=list(map(int,input().split()))\n",
    "  number.sort()\n",
    "  for _ in range(dump):\n",
    "      max_idx = number.index(max(number))\n",
    "      min_idx = number.index(min(number))\n",
    "      \n",
    "      number[max_idx] -= 1\n",
    "      number[min_idx] += 1\n",
    "  result.append(max(number) - min(number))\n",
    "for i in range(10):\n",
    "    print(f\"#{i+1} {result[i]}\")\n",
    "        \n"
   ]
  }
 ],
 "metadata": {
  "kernelspec": {
   "display_name": "Python 3",
   "language": "python",
   "name": "python3"
  },
  "language_info": {
   "codemirror_mode": {
    "name": "ipython",
    "version": 3
   },
   "file_extension": ".py",
   "mimetype": "text/x-python",
   "name": "python",
   "nbconvert_exporter": "python",
   "pygments_lexer": "ipython3",
   "version": "3.13.2"
  }
 },
 "nbformat": 4,
 "nbformat_minor": 5
}
