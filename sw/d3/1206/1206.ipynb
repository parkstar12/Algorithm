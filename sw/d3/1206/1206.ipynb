{
 "cells": [
  {
   "cell_type": "code",
   "execution_count": null,
   "id": "4ebe2f14",
   "metadata": {},
   "outputs": [
    {
     "name": "stdout",
     "output_type": "stream",
     "text": [
      "#0\n",
      "#1\n",
      "#2\n",
      "#3\n",
      "#4\n",
      "#5\n",
      "#6\n",
      "#7\n",
      "#8\n",
      "#9\n"
     ]
    }
   ],
   "source": [
    "def solve(board,N,add_sum):\n",
    "  for i in range(2,N-2):\n",
    "    now=board[i]\n",
    "    max_left=max(board[i-2:i])\n",
    "    max_right=max(board[i+1:i+3])\n",
    "    if now == max(now,max_right,max_left):\n",
    "      tmp=max(max_left,max_right)\n",
    "      add_sum += now-tmp\n",
    "  return add_sum\n",
    "result=[]\n",
    "for _ in range(10):\n",
    "  N=int(input())\n",
    "  board=list(map(int,input().split()))\n",
    "  solve(board,N,0)\n",
    "  result.append(solve(board,N,0))\n",
    "\n",
    "for i in range(10):\n",
    "  print(f\"#{i} {result[i]}\")"
   ]
  }
 ],
 "metadata": {
  "kernelspec": {
   "display_name": "Python 3",
   "language": "python",
   "name": "python3"
  },
  "language_info": {
   "codemirror_mode": {
    "name": "ipython",
    "version": 3
   },
   "file_extension": ".py",
   "mimetype": "text/x-python",
   "name": "python",
   "nbconvert_exporter": "python",
   "pygments_lexer": "ipython3",
   "version": "3.13.2"
  }
 },
 "nbformat": 4,
 "nbformat_minor": 5
}
