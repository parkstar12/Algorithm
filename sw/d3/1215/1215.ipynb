{
 "cells": [
  {
   "cell_type": "code",
   "execution_count": null,
   "id": "30e7f9a7",
   "metadata": {},
   "outputs": [
    {
     "name": "stdout",
     "output_type": "stream",
     "text": [
      "10\n"
     ]
    }
   ],
   "source": [
    "def binary(input_string):\n",
    "  M=len(input_string)\n",
    "  for i in range(M//2):\n",
    "    if input_string[i] != input_string[M-i-1]:\n",
    "      return 0\n",
    "  return 1\n",
    "\n",
    "for t in range(10):\n",
    "  N=int(input())\n",
    "  board=[list(input()) for _ in range(8)]\n",
    "  count=0\n",
    "  for x in range(8):\n",
    "    for y in range(8):\n",
    "      if y+N <= 8 :\n",
    "        count += binary(board[x][y:y+N])\n",
    "      if x+N <= 8:\n",
    "        col_slice = [board[i][y] for i in range(x, x + N)]\n",
    "        count += binary(col_slice)\n",
    "  print(f\"#{t+1} {count}\")\n"
   ]
  }
 ],
 "metadata": {
  "kernelspec": {
   "display_name": "Python 3",
   "language": "python",
   "name": "python3"
  },
  "language_info": {
   "codemirror_mode": {
    "name": "ipython",
    "version": 3
   },
   "file_extension": ".py",
   "mimetype": "text/x-python",
   "name": "python",
   "nbconvert_exporter": "python",
   "pygments_lexer": "ipython3",
   "version": "3.13.2"
  }
 },
 "nbformat": 4,
 "nbformat_minor": 5
}
