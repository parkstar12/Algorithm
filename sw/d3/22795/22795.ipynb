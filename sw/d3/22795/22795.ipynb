{
 "cells": [
  {
   "cell_type": "code",
   "execution_count": 8,
   "id": "1150d2f3",
   "metadata": {},
   "outputs": [
    {
     "name": "stdout",
     "output_type": "stream",
     "text": [
      "305\n"
     ]
    }
   ],
   "source": [
    "T=int(input())\n",
    "for _ in range(T):\n",
    "  height=list(map(int,input().split()))\n",
    "  sum_h=sum(height)\n",
    "  max_height=max(height)\n",
    "  for i in range(sum_h+1,sum_h+8):\n",
    "    if i % 7 ==0:\n",
    "      prepration=i\n",
    "      break\n",
    "\n",
    "  while 1:\n",
    "    result=prepration-sum_h\n",
    "    if result>max_height:\n",
    "      print(result)\n",
    "      break\n",
    "    else:\n",
    "      prepration+=7\n",
    "  "
   ]
  }
 ],
 "metadata": {
  "kernelspec": {
   "display_name": "Python 3",
   "language": "python",
   "name": "python3"
  },
  "language_info": {
   "codemirror_mode": {
    "name": "ipython",
    "version": 3
   },
   "file_extension": ".py",
   "mimetype": "text/x-python",
   "name": "python",
   "nbconvert_exporter": "python",
   "pygments_lexer": "ipython3",
   "version": "3.13.2"
  }
 },
 "nbformat": 4,
 "nbformat_minor": 5
}
