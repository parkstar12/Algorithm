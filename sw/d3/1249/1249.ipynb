{
 "cells": [
  {
   "cell_type": "code",
   "execution_count": null,
   "id": "7bec29ba",
   "metadata": {},
   "outputs": [
    {
     "name": "stdout",
     "output_type": "stream",
     "text": [
      "[2]\n"
     ]
    }
   ],
   "source": [
    "from collections import deque\n",
    "\n",
    "def bfs():\n",
    "  while stack:\n",
    "    x,y,cost=stack.popleft()\n",
    "    if sum_board[x][y] < cost:\n",
    "      continue\n",
    "    for i in range(4):\n",
    "      nx=x+dx[i]\n",
    "      ny=y+dy[i]\n",
    "      if 0 <= nx < N and 0 <= ny < N:\n",
    "        if sum_board[nx][ny] > board[nx][ny] + sum_board[x][y]:\n",
    "            sum_board[nx][ny] = board[nx][ny] + sum_board[x][y]\n",
    "            stack.append([nx, ny, sum_board[nx][ny]])\n",
    "      else:\n",
    "        continue\n",
    "\n",
    "\n",
    "T=int(input())\n",
    "dx=[-1,0,1,0]\n",
    "dy=[0,1,0,-1]\n",
    "result=[]\n",
    "for _ in range(T):\n",
    "  N=int(input())\n",
    "  board=[list(map(int,input().strip())) for _ in range(N)]\n",
    "  sum_board=[[99999]*N for _ in range(N)]\n",
    "  sum_board[0][0]=0\n",
    "  stack=deque()\n",
    "  stack.append([0,0,0])\n",
    "  bfs()\n",
    "  result.append(sum_board[N-1][N-1])\n",
    "for i in range(T):\n",
    "  print(f\"#{i} {result[i]}\")\n"
   ]
  }
 ],
 "metadata": {
  "kernelspec": {
   "display_name": "Python 3",
   "language": "python",
   "name": "python3"
  },
  "language_info": {
   "codemirror_mode": {
    "name": "ipython",
    "version": 3
   },
   "file_extension": ".py",
   "mimetype": "text/x-python",
   "name": "python",
   "nbconvert_exporter": "python",
   "pygments_lexer": "ipython3",
   "version": "3.13.2"
  }
 },
 "nbformat": 4,
 "nbformat_minor": 5
}
