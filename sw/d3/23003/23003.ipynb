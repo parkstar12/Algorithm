{
 "cells": [
  {
   "cell_type": "code",
   "execution_count": 6,
   "id": "897e0211",
   "metadata": {},
   "outputs": [
    {
     "name": "stdout",
     "output_type": "stream",
     "text": [
      "X\n"
     ]
    }
   ],
   "source": [
    "T=int(input())\n",
    "color={}\n",
    "color[\"red\"]=0\n",
    "color[\"orange\"]=1\n",
    "color[\"yellow\"]=2\n",
    "color[\"green\"]=3\n",
    "color[\"blue\"]=4\n",
    "color[\"purple\"]=5\n",
    "for _ in range(T):\n",
    "  one,two=input().split()\n",
    "  if color[one]-color[two]==0 :\n",
    "    print(\"E\")\n",
    "  elif abs(color[one]-color[two]) == 3 :\n",
    "    print(\"C\")\n",
    "  elif abs(color[one]-color[two]) == 1 or abs(color[one]-color[two]) == 5 :\n",
    "    print(\"A\")\n",
    "  else:\n",
    "    print(\"X\")"
   ]
  }
 ],
 "metadata": {
  "kernelspec": {
   "display_name": "Python 3",
   "language": "python",
   "name": "python3"
  },
  "language_info": {
   "codemirror_mode": {
    "name": "ipython",
    "version": 3
   },
   "file_extension": ".py",
   "mimetype": "text/x-python",
   "name": "python",
   "nbconvert_exporter": "python",
   "pygments_lexer": "ipython3",
   "version": "3.13.2"
  }
 },
 "nbformat": 4,
 "nbformat_minor": 5
}
