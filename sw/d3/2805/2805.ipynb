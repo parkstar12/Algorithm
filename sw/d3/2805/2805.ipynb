{
 "cells": [
  {
   "cell_type": "code",
   "execution_count": null,
   "id": "c14c0dfd",
   "metadata": {},
   "outputs": [
    {
     "name": "stdout",
     "output_type": "stream",
     "text": [
      "5\n",
      "16\n"
     ]
    }
   ],
   "source": [
    "T=int(input())\n",
    "for t in range(T):\n",
    "  N=int(input())\n",
    "  board=[list(map(int,input()))for _ in range(N)]\n",
    "  score=0\n",
    "  mid=N//2\n",
    "  for i in range(mid):\n",
    "    score+=sum(board[i][mid-i:mid+i+1])\n",
    "    score+=sum(board[N-1-i][mid-i:mid+i+1])\n",
    "  score+=sum(board[mid][:])\n",
    "  print(f\"#{t+1} {score}\")\n"
   ]
  }
 ],
 "metadata": {
  "kernelspec": {
   "display_name": "Python 3",
   "language": "python",
   "name": "python3"
  },
  "language_info": {
   "codemirror_mode": {
    "name": "ipython",
    "version": 3
   },
   "file_extension": ".py",
   "mimetype": "text/x-python",
   "name": "python",
   "nbconvert_exporter": "python",
   "pygments_lexer": "ipython3",
   "version": "3.13.2"
  }
 },
 "nbformat": 4,
 "nbformat_minor": 5
}
