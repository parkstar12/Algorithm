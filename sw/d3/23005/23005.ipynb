{
 "cells": [
  {
   "cell_type": "code",
   "execution_count": 8,
   "id": "2e42c2a1",
   "metadata": {},
   "outputs": [
    {
     "name": "stdout",
     "output_type": "stream",
     "text": [
      "-1\n"
     ]
    }
   ],
   "source": [
    "T=int(input())\n",
    "for _ in range(T):\n",
    "  alpha=list(input())\n",
    "\n",
    "  start=0\n",
    "  end=len(alpha)-1\n",
    "  count=0\n",
    "\n",
    "  while start < end :\n",
    "    if alpha[start] == alpha[end]:\n",
    "      start+=1\n",
    "      end-=1\n",
    "      continue\n",
    "    if alpha[start] ==\"x\":\n",
    "      count+=1\n",
    "      start+=1\n",
    "    elif alpha[end] == \"x\":\n",
    "      count+=1\n",
    "      end-=1\n",
    "    else:\n",
    "      count=-1\n",
    "      break\n",
    "  print(count)\n"
   ]
  }
 ],
 "metadata": {
  "kernelspec": {
   "display_name": "Python 3",
   "language": "python",
   "name": "python3"
  },
  "language_info": {
   "codemirror_mode": {
    "name": "ipython",
    "version": 3
   },
   "file_extension": ".py",
   "mimetype": "text/x-python",
   "name": "python",
   "nbconvert_exporter": "python",
   "pygments_lexer": "ipython3",
   "version": "3.13.2"
  }
 },
 "nbformat": 4,
 "nbformat_minor": 5
}
