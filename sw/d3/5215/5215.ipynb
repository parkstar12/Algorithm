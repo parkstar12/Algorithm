{
 "cells": [
  {
   "cell_type": "code",
   "execution_count": null,
   "id": "9f652f1a",
   "metadata": {},
   "outputs": [
    {
     "ename": "IndexError",
     "evalue": "pop from an empty deque",
     "output_type": "error",
     "traceback": [
      "\u001b[1;31m---------------------------------------------------------------------------\u001b[0m",
      "\u001b[1;31mIndexError\u001b[0m                                Traceback (most recent call last)",
      "Cell \u001b[1;32mIn[2], line 36\u001b[0m\n\u001b[0;32m     34\u001b[0m \u001b[38;5;28;01mfor\u001b[39;00m i \u001b[38;5;129;01min\u001b[39;00m \u001b[38;5;28mrange\u001b[39m(N):\n\u001b[0;32m     35\u001b[0m   stack\u001b[38;5;241m.\u001b[39mappend([ [i],ham[i][\u001b[38;5;241m0\u001b[39m],ham[i][\u001b[38;5;241m1\u001b[39m] ])\n\u001b[1;32m---> 36\u001b[0m   \u001b[43mdfs\u001b[49m\u001b[43m(\u001b[49m\u001b[43mstack\u001b[49m\u001b[43m,\u001b[49m\u001b[43mi\u001b[49m\u001b[43m)\u001b[49m\n\u001b[0;32m     37\u001b[0m   stack\u001b[38;5;241m.\u001b[39mpop()\n\u001b[0;32m     39\u001b[0m \u001b[38;5;28mprint\u001b[39m(result)\n",
      "Cell \u001b[1;32mIn[2], line 18\u001b[0m, in \u001b[0;36mdfs\u001b[1;34m(stack, i)\u001b[0m\n\u001b[0;32m     16\u001b[0m next_score\u001b[38;5;241m=\u001b[39msum_score\u001b[38;5;241m+\u001b[39mham[j][\u001b[38;5;241m0\u001b[39m]\n\u001b[0;32m     17\u001b[0m stack\u001b[38;5;241m.\u001b[39mappend([[next_index],next_cal,next_score])\n\u001b[1;32m---> 18\u001b[0m \u001b[43mdfs\u001b[49m\u001b[43m(\u001b[49m\u001b[43mstack\u001b[49m\u001b[43m,\u001b[49m\u001b[43mj\u001b[49m\u001b[43m)\u001b[49m\n\u001b[0;32m     19\u001b[0m stack\u001b[38;5;241m.\u001b[39mpop()\n",
      "Cell \u001b[1;32mIn[2], line 18\u001b[0m, in \u001b[0;36mdfs\u001b[1;34m(stack, i)\u001b[0m\n\u001b[0;32m     16\u001b[0m next_score\u001b[38;5;241m=\u001b[39msum_score\u001b[38;5;241m+\u001b[39mham[j][\u001b[38;5;241m0\u001b[39m]\n\u001b[0;32m     17\u001b[0m stack\u001b[38;5;241m.\u001b[39mappend([[next_index],next_cal,next_score])\n\u001b[1;32m---> 18\u001b[0m \u001b[43mdfs\u001b[49m\u001b[43m(\u001b[49m\u001b[43mstack\u001b[49m\u001b[43m,\u001b[49m\u001b[43mj\u001b[49m\u001b[43m)\u001b[49m\n\u001b[0;32m     19\u001b[0m stack\u001b[38;5;241m.\u001b[39mpop()\n",
      "Cell \u001b[1;32mIn[2], line 19\u001b[0m, in \u001b[0;36mdfs\u001b[1;34m(stack, i)\u001b[0m\n\u001b[0;32m     17\u001b[0m stack\u001b[38;5;241m.\u001b[39mappend([[next_index],next_cal,next_score])\n\u001b[0;32m     18\u001b[0m dfs(stack,j)\n\u001b[1;32m---> 19\u001b[0m \u001b[43mstack\u001b[49m\u001b[38;5;241;43m.\u001b[39;49m\u001b[43mpop\u001b[49m\u001b[43m(\u001b[49m\u001b[43m)\u001b[49m\n",
      "\u001b[1;31mIndexError\u001b[0m: pop from an empty deque"
     ]
    },
    {
     "ename": "",
     "evalue": "",
     "output_type": "error",
     "traceback": [
      "\u001b[1;31m현재 셀 또는 이전 셀에서 코드를 실행하는 동안 Kernel이 충돌했습니다. \n",
      "\u001b[1;31m셀의 코드를 검토하여 가능한 오류 원인을 식별하세요. \n",
      "\u001b[1;31m자세한 내용을 보려면 <a href='https://aka.ms/vscodeJupyterKernelCrash'>여기</a>를 클릭하세요. \n",
      "\u001b[1;31m자세한 내용은 Jupyter <a href='command:jupyter.viewOutput'>로그</a>를 참조하세요."
     ]
    }
   ],
   "source": [
    "from collections import deque\n",
    "\n",
    "\n",
    "def dfs(stack,i):\n",
    "  global L,N,result\n",
    "  while stack:\n",
    "    index_list,sum_cal,sum_score=stack.popleft()\n",
    "    if sum_cal > L:\n",
    "      return\n",
    "    if sum_score > result:\n",
    "      result=sum_score\n",
    "    for j in range(i+1,N):\n",
    "      next_index=index_list[:]\n",
    "      next_index.append(j)\n",
    "      next_cal=sum_cal+ham[j][0]\n",
    "      next_score=sum_score+ham[j][1]\n",
    "      stack.append([next_index,next_cal,next_score])\n",
    "      dfs(stack,j)\n",
    "      stack.pop()\n",
    "\n",
    "  \n",
    "T=int(input())\n",
    "result=0\n",
    "\n",
    "for _ in range(T):\n",
    "  N,L=map(int,input().split())\n",
    "  ham=[]\n",
    "  for _ in range(N):\n",
    "    score,cal=map(int,input().split())\n",
    "    ham.append([cal,score])\n",
    "  ham.sort()\n",
    "  stack=deque()\n",
    "\n",
    "  for i in range(N):\n",
    "    stack.append([ [i],ham[i][0],ham[i][1] ])\n",
    "    dfs(stack,i)\n",
    "    stack.pop()\n",
    "\n",
    "  print(result)\n",
    "\n"
   ]
  },
  {
   "cell_type": "code",
   "execution_count": null,
   "id": "8c9538ce",
   "metadata": {},
   "outputs": [],
   "source": [
    "from collections import deque\n",
    "\n",
    "def dfs(index_list, sum_cal, sum_score, i):\n",
    "    global result\n",
    "    if sum_cal > L:\n",
    "        return\n",
    "    result = max(result, sum_score)\n",
    "    for j in range(i + 1, N):\n",
    "        next_index = index_list[:]\n",
    "        next_index.append(j)\n",
    "        next_cal = sum_cal + ham[j][0]\n",
    "        next_score = sum_score + ham[j][1]  # ← 여기!!\n",
    "        dfs(next_index, next_cal, next_score, j)\n",
    "\n",
    "\n",
    "T = int(input())\n",
    "\n",
    "for test_case in range(1, T + 1):\n",
    "    N, L = map(int, input().split())\n",
    "    ham = []\n",
    "    for _ in range(N):\n",
    "        score, cal = map(int, input().split())\n",
    "        ham.append([cal, score])  # [cal, score] 순서 그대로 둬도 됨\n",
    "    result = 0\n",
    "    for i in range(N):\n",
    "        dfs([i], ham[i][0], ham[i][1], i)\n",
    "    print(f\"#{test_case} {result}\")\n"
   ]
  }
 ],
 "metadata": {
  "kernelspec": {
   "display_name": "Python 3",
   "language": "python",
   "name": "python3"
  },
  "language_info": {
   "codemirror_mode": {
    "name": "ipython",
    "version": 3
   },
   "file_extension": ".py",
   "mimetype": "text/x-python",
   "name": "python",
   "nbconvert_exporter": "python",
   "pygments_lexer": "ipython3",
   "version": "3.13.2"
  }
 },
 "nbformat": 4,
 "nbformat_minor": 5
}
