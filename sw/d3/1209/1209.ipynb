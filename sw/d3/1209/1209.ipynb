{
 "cells": [
  {
   "cell_type": "code",
   "execution_count": null,
   "id": "f16c6fc7",
   "metadata": {},
   "outputs": [],
   "source": [
    "for _ in range(10):\n",
    "  tc = int(input())  # 케이스 번호\n",
    "\n",
    "  # 1) 보드 입력\n",
    "  board = [list(map(int, input().split())) for _ in range(100)]\n",
    "\n",
    "  # 2) 행 최대 합 구하기\n",
    "  max_row = max(sum(row) for row in board)\n",
    "\n",
    "  # 3) 열 최대 합 구하기\n",
    "  max_col = 0\n",
    "  for col in range(100):\n",
    "    max_col = max(sum(board[row][col] for row in range(100)),max_col)\n",
    "\n",
    "  # 4) 대각선 합 구하기\n",
    "  diag1 = sum(board[i][i] for i in range(100))          # ↘ 대각선\n",
    "  diag2 = sum(board[i][99 - i] for i in range(100))     # ↙ 대각선\n",
    "\n",
    "  # 5) 최종 최대값\n",
    "  answer = max(max_row, max_col, diag1, diag2)\n",
    "\n",
    "  # 6) 결과 출력\n",
    "  print(f\"#{tc} {answer}\")\n"
   ]
  }
 ],
 "metadata": {
  "language_info": {
   "name": "python"
  }
 },
 "nbformat": 4,
 "nbformat_minor": 5
}
