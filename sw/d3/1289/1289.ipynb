{
 "cells": [
  {
   "cell_type": "code",
   "execution_count": null,
   "id": "e6e0a2b9",
   "metadata": {},
   "outputs": [
    {
     "name": "stdout",
     "output_type": "stream",
     "text": [
      "#1 1\n",
      "#2 2\n"
     ]
    }
   ],
   "source": [
    "T=int(input())\n",
    "for t in range(T):\n",
    "  count=0\n",
    "  now=0\n",
    "  memory=list(map(int,input()))\n",
    "  for i in range(len(memory)):\n",
    "    if now != memory[i]:\n",
    "      count+=1\n",
    "      now=memory[i]\n",
    "  print(f\"#{t+1} {count}\")"
   ]
  }
 ],
 "metadata": {
  "kernelspec": {
   "display_name": "Python 3",
   "language": "python",
   "name": "python3"
  },
  "language_info": {
   "codemirror_mode": {
    "name": "ipython",
    "version": 3
   },
   "file_extension": ".py",
   "mimetype": "text/x-python",
   "name": "python",
   "nbconvert_exporter": "python",
   "pygments_lexer": "ipython3",
   "version": "3.13.2"
  }
 },
 "nbformat": 4,
 "nbformat_minor": 5
}
