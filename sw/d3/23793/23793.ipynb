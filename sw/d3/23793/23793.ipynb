{
 "cells": [
  {
   "cell_type": "code",
   "execution_count": null,
   "id": "be245377",
   "metadata": {},
   "outputs": [
    {
     "name": "stdout",
     "output_type": "stream",
     "text": [
      "6 6 4\n"
     ]
    }
   ],
   "source": [
    "T=int(input())\n",
    "for _ in range(T):\n",
    "  N=int(input())\n",
    "  board= [[[] for _ in range(N)] for _ in range(N)]\n",
    "\n",
    "  board[0]= [[x] for x in map(int, input().split())]\n",
    "  score=[0]*3\n",
    "  \n",
    "  for b in board[0]:\n",
    "    score[b] += 1\n",
    "\n",
    "  for a in range(1,N):\n",
    "    x=int(input())\n",
    "    board[a][0]=x\n",
    "    score[x] += 1\n",
    "\n",
    "  for i in range(1,N):\n",
    "    for j in range(1,N):\n",
    "      sum_A=board[i-1][j]+board[i][j-1]\n",
    "      if sum_A == 4:\n",
    "        board[i][j]=0\n",
    "        score[0]+=1\n",
    "\n",
    "      elif sum_A == 0:\n",
    "        board[i][j]=1\n",
    "        score[1]+=1\n",
    "\n",
    "      elif sum_A == 1:\n",
    "        board[i][j]=2\n",
    "        score[2]+=1\n",
    "\n",
    "      elif sum_A == 3:\n",
    "        board[i][j]=0\n",
    "        score[0]+=1\n",
    "\n",
    "      else:\n",
    "        if board[i][j-1] == 1:\n",
    "          board[i][j]=0\n",
    "          score[0]+=1\n",
    "        else:\n",
    "          board[i][j]=1\n",
    "          score[1]+=1\n",
    "  print(*score)"
   ]
  }
 ],
 "metadata": {
  "kernelspec": {
   "display_name": "Python 3",
   "language": "python",
   "name": "python3"
  },
  "language_info": {
   "codemirror_mode": {
    "name": "ipython",
    "version": 3
   },
   "file_extension": ".py",
   "mimetype": "text/x-python",
   "name": "python",
   "nbconvert_exporter": "python",
   "pygments_lexer": "ipython3",
   "version": "3.13.2"
  }
 },
 "nbformat": 4,
 "nbformat_minor": 5
}
