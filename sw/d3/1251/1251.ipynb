{
 "cells": [
  {
   "cell_type": "code",
   "execution_count": null,
   "id": "826a247c",
   "metadata": {},
   "outputs": [
    {
     "name": "stdout",
     "output_type": "stream",
     "text": [
      "[0, 1, 2, 3, 4]\n",
      "[0, 100, 2, 3, 4]\n"
     ]
    }
   ],
   "source": []
  },
  {
   "cell_type": "code",
   "execution_count": null,
   "id": "607968d6",
   "metadata": {},
   "outputs": [],
   "source": [
    "def find(x):\n",
    "  if parents[x] != x:\n",
    "    parents[x] = find(parents[x])\n",
    "  return parents[x]\n",
    "  \n",
    "\n",
    "def union(A,B):\n",
    "  rootA=find(A)\n",
    "  rootB=find(B)\n",
    "\n",
    "  if rootB!=rootA:\n",
    "    parents[rootB]=rootA\n",
    "    return True\n",
    "  return False\n",
    "\n",
    "T=int(input())\n",
    "for t in range(T):\n",
    "  N=int(input())\n",
    "  x=list(map(int, input().split()))\n",
    "  y=list(map(int, input().split()))\n",
    "  rate=float(input())\n",
    "  edges=[]\n",
    "  for i in range(N):\n",
    "      for j in range(i + 1, N):\n",
    "          dx = x[i] - x[j]\n",
    "          dy = y[i] - y[j]\n",
    "          dist = dx * dx + dy * dy\n",
    "          edges.append((dist, i, j))\n",
    "          \n",
    "  edges.sort()        \n",
    "  total_cost = 0\n",
    "  edge_count = 0\n",
    "  parents=[i for i in range(N)]\n",
    "\n",
    "  for cost,a,b in edges:\n",
    "    if union(a,b):\n",
    "      total_cost+=cost\n",
    "      edge_count+=1\n",
    "      if edge_count == N-1:\n",
    "        break\n",
    "  result=round(total_cost * rate)\n",
    "  print(f\"#{t+1} {result}\")"
   ]
  }
 ],
 "metadata": {
  "kernelspec": {
   "display_name": "Python 3",
   "language": "python",
   "name": "python3"
  },
  "language_info": {
   "codemirror_mode": {
    "name": "ipython",
    "version": 3
   },
   "file_extension": ".py",
   "mimetype": "text/x-python",
   "name": "python",
   "nbconvert_exporter": "python",
   "pygments_lexer": "ipython3",
   "version": "3.11.9"
  }
 },
 "nbformat": 4,
 "nbformat_minor": 5
}
