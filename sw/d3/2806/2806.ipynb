{
 "cells": [
  {
   "cell_type": "code",
   "execution_count": null,
   "id": "95bf55bc",
   "metadata": {},
   "outputs": [
    {
     "name": "stdout",
     "output_type": "stream",
     "text": [
      "#1 0\n"
     ]
    }
   ],
   "source": [
    "def dfs(row):\n",
    "  global count\n",
    "  if row==N:\n",
    "    count+=1\n",
    "    return\n",
    "\n",
    "  for col in range(N):\n",
    "    check[row]=col\n",
    "    for before in range(row):\n",
    "      if check[before] == check[row] or row-before == abs(check[before]-check[row]):\n",
    "        break\n",
    "    else:  # for문을 정상적으로 통과했을 때만 다음 줄로 이동\n",
    "      dfs(row + 1)\n",
    "\n",
    "T=int(input())\n",
    "for t in range(T):\n",
    "  N=int(input())\n",
    "  check=[-1]*N\n",
    "  count=0\n",
    "  dfs(0)\n",
    "  print(f\"#{t+1} {count}\")"
   ]
  },
  {
   "cell_type": "code",
   "execution_count": null,
   "id": "a31fd833",
   "metadata": {},
   "outputs": [],
   "source": [
    "def dfs(row):\n",
    "    global count\n",
    "    if row == N:\n",
    "        count += 1\n",
    "        return\n",
    "    for col in range(N):\n",
    "        check[row] = col\n",
    "        for before in range(row):\n",
    "            if check[before] == check[row] or abs(check[before] - check[row]) == row - before:\n",
    "                break\n",
    "        else:  # for문이 break 없이 끝났을 때 (유효한 위치)\n",
    "            dfs(row + 1)\n",
    "\n",
    "T = int(input())\n",
    "for t in range(T):\n",
    "    N = int(input())\n",
    "    check = [-1] * N\n",
    "    count = 0\n",
    "    dfs(0)\n",
    "    print(count)\n"
   ]
  }
 ],
 "metadata": {
  "kernelspec": {
   "display_name": "Python 3",
   "language": "python",
   "name": "python3"
  },
  "language_info": {
   "codemirror_mode": {
    "name": "ipython",
    "version": 3
   },
   "file_extension": ".py",
   "mimetype": "text/x-python",
   "name": "python",
   "nbconvert_exporter": "python",
   "pygments_lexer": "ipython3",
   "version": "3.13.2"
  }
 },
 "nbformat": 4,
 "nbformat_minor": 5
}
