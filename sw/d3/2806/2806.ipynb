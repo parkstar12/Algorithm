{
 "cells": [
  {
   "cell_type": "code",
   "execution_count": null,
   "id": "95bf55bc",
   "metadata": {},
   "outputs": [],
   "source": [
    "def dfs(stack):\n",
    "  t_stack=stack[:]\n",
    "  for i in range(N):\n",
    "    for j in range(N):\n",
    "      if [i,j] not in t_stack:\n",
    "        for d in range(4):\n",
    "          nx=i+dx[d]\n",
    "          ny=j+dy[d]\n",
    "          if 0 <= nx < N and 0 <= ny < N:\n",
    "            t_stack.append([nx,ny])\n",
    "        dfs(t_stack)\n",
    "\n",
    "\n",
    "\n",
    "\n",
    "\n",
    "dx=[-1,1,1,-1]\n",
    "dy=[1,1,-1,-1]\n",
    "T=int(input())\n",
    "for _ in range(T):\n",
    "  N=int(input())\n",
    "  for i in range(N):\n",
    "    for j in range(N):\n",
    "      stack=[i,j]\n",
    "      for d in range(4):\n",
    "        nx=i+dx[d]\n",
    "        ny=j+dy[d]\n",
    "        if 0 <= nx < N and 0 <= ny < N:\n",
    "          stack.append([nx,ny])\n",
    "      dfs(stack)\n",
    "  "
   ]
  }
 ],
 "metadata": {
  "language_info": {
   "name": "python"
  }
 },
 "nbformat": 4,
 "nbformat_minor": 5
}
