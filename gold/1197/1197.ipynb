{
 "cells": [
  {
   "cell_type": "code",
   "execution_count": null,
   "id": "471e5874",
   "metadata": {},
   "outputs": [
    {
     "name": "stdout",
     "output_type": "stream",
     "text": [
      "3\n"
     ]
    }
   ],
   "source": [
    "\n",
    "def find(x):\n",
    "    while parents[x] != x:\n",
    "        parents[x] = parents[parents[x]]\n",
    "        x = parents[x]\n",
    "    return x\n",
    "\n",
    "def union(a,b):\n",
    "    rootA = find(a)\n",
    "    rootB = find(b)\n",
    "    if rootA != rootB:\n",
    "        parents[rootB] = rootA\n",
    "        return True\n",
    "    return False\n",
    "\n",
    "v, e = map(int, input().split())\n",
    "parents = [i for i in range(v+1)]\n",
    "edges = []\n",
    "for _ in range(e):\n",
    "    x, y, z = map(int, input().split())\n",
    "    edges.append((x, y, z))\n",
    "edges.sort(key=lambda a: a[2])\n",
    "cost = 0\n",
    "\n",
    "for x, y, z in edges:\n",
    "    if union(x, y):\n",
    "        cost += z\n",
    "print(cost)\n"
   ]
  }
 ],
 "metadata": {
  "kernelspec": {
   "display_name": "Python 3",
   "language": "python",
   "name": "python3"
  },
  "language_info": {
   "codemirror_mode": {
    "name": "ipython",
    "version": 3
   },
   "file_extension": ".py",
   "mimetype": "text/x-python",
   "name": "python",
   "nbconvert_exporter": "python",
   "pygments_lexer": "ipython3",
   "version": "3.13.2"
  }
 },
 "nbformat": 4,
 "nbformat_minor": 5
}
