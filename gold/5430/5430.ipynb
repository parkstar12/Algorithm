{
 "cells": [
  {
   "cell_type": "code",
   "execution_count": null,
   "metadata": {},
   "outputs": [
    {
     "name": "stdout",
     "output_type": "stream",
     "text": [
      "[]\n"
     ]
    }
   ],
   "source": [
    "T=int(input())\n",
    "for _ in range(T) :\n",
    "  \n",
    "  command=list(input())\n",
    "  list_num=int(input())\n",
    "  num_list = list(input().strip()[1:-1].split(\",\"))\n",
    "  rev=0\n",
    "  flag=0\n",
    "  \n",
    "  if list_num==0:\n",
    "    num_list=[]\n",
    "  \n",
    "  for i in command:\n",
    "    if i =='R':\n",
    "      rev += 1\n",
    "      \n",
    "    if i =='D':\n",
    "      if len(num_list) == 0:\n",
    "        flag=1\n",
    "        print('error')\n",
    "        break\n",
    "      else:\n",
    "        if rev%2==0:\n",
    "          num_list.pop(0)\n",
    "        else:\n",
    "          num_list.pop()\n",
    "          \n",
    "  if flag == 0 :\n",
    "    if rev%2 == 0:\n",
    "      print(\"[\" + \",\".join(num_list) + \"]\")\n",
    "    else:\n",
    "      num_list.reverse()\n",
    "      print(\"[\" + \",\".join(num_list) + \"]\")"
   ]
  }
 ],
 "metadata": {
  "kernelspec": {
   "display_name": "Python 3",
   "language": "python",
   "name": "python3"
  },
  "language_info": {
   "codemirror_mode": {
    "name": "ipython",
    "version": 3
   },
   "file_extension": ".py",
   "mimetype": "text/x-python",
   "name": "python",
   "nbconvert_exporter": "python",
   "pygments_lexer": "ipython3",
   "version": "3.11.9"
  }
 },
 "nbformat": 4,
 "nbformat_minor": 2
}
