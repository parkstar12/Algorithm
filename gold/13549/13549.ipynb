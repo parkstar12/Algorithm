{
 "cells": [
  {
   "cell_type": "code",
   "execution_count": null,
   "metadata": {},
   "outputs": [],
   "source": [
    "def solve(now,target,num) :\n",
    "  while now!=target :\n",
    "    time=0\n",
    "    if now%2 !=0:\n",
    "      time += solve(now,target,num)+1\n",
    "    else:\n",
    "      now //= 2\n",
    "  return time\n",
    "\n",
    "N,K=map(int,input().split())\n",
    "\n",
    "if N > K :\n",
    "  now=N\n",
    "  target=K\n",
    "else :\n",
    "  now=K\n",
    "  target=N\n",
    "result=min(solve(now,target,1),solve(now,target,-1))"
   ]
  }
 ],
 "metadata": {
  "language_info": {
   "name": "python"
  }
 },
 "nbformat": 4,
 "nbformat_minor": 2
}
