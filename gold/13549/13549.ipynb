{
 "cells": [
  {
   "cell_type": "code",
   "execution_count": null,
   "metadata": {},
   "outputs": [
    {
     "ename": "UnboundLocalError",
     "evalue": "cannot access local variable 'time' where it is not associated with a value",
     "output_type": "error",
     "traceback": [
      "\u001b[31m---------------------------------------------------------------------------\u001b[39m",
      "\u001b[31mUnboundLocalError\u001b[39m                         Traceback (most recent call last)",
      "\u001b[36mCell\u001b[39m\u001b[36m \u001b[39m\u001b[32mIn[1]\u001b[39m\u001b[32m, line 19\u001b[39m\n\u001b[32m     17\u001b[39m   target=N\n\u001b[32m     18\u001b[39m \u001b[38;5;28;01mif\u001b[39;00m now % \u001b[32m2\u001b[39m==\u001b[32m1\u001b[39m:\n\u001b[32m---> \u001b[39m\u001b[32m19\u001b[39m   result=\u001b[38;5;28mmin\u001b[39m(\u001b[43msolve\u001b[49m\u001b[43m(\u001b[49m\u001b[43mnow\u001b[49m\u001b[43m,\u001b[49m\u001b[43mtarget\u001b[49m\u001b[43m+\u001b[49m\u001b[32;43m1\u001b[39;49m\u001b[43m)\u001b[49m,solve(now,target-\u001b[32m1\u001b[39m))\n\u001b[32m     20\u001b[39m   result += \u001b[32m1\u001b[39m\n\u001b[32m     21\u001b[39m \u001b[38;5;28;01melse\u001b[39;00m:\n",
      "\u001b[36mCell\u001b[39m\u001b[36m \u001b[39m\u001b[32mIn[1]\u001b[39m\u001b[32m, line 5\u001b[39m, in \u001b[36msolve\u001b[39m\u001b[34m(now, target)\u001b[39m\n\u001b[32m      3\u001b[39m time=\u001b[32m0\u001b[39m\n\u001b[32m      4\u001b[39m \u001b[38;5;28;01mif\u001b[39;00m now%\u001b[32m2\u001b[39m == \u001b[32m1\u001b[39m :\n\u001b[32m----> \u001b[39m\u001b[32m5\u001b[39m   time += \u001b[38;5;28mmin\u001b[39m(\u001b[43msolve\u001b[49m\u001b[43m(\u001b[49m\u001b[43mnow\u001b[49m\u001b[43m,\u001b[49m\u001b[43mtarget\u001b[49m\u001b[43m+\u001b[49m\u001b[32;43m1\u001b[39;49m\u001b[43m)\u001b[49m,solve(now,target-\u001b[32m1\u001b[39m)) + \u001b[32m1\u001b[39m \n\u001b[32m      6\u001b[39m \u001b[38;5;28;01melse\u001b[39;00m:\n\u001b[32m      7\u001b[39m   now //= \u001b[32m2\u001b[39m\n",
      "\u001b[36mCell\u001b[39m\u001b[36m \u001b[39m\u001b[32mIn[1]\u001b[39m\u001b[32m, line 5\u001b[39m, in \u001b[36msolve\u001b[39m\u001b[34m(now, target)\u001b[39m\n\u001b[32m      3\u001b[39m time=\u001b[32m0\u001b[39m\n\u001b[32m      4\u001b[39m \u001b[38;5;28;01mif\u001b[39;00m now%\u001b[32m2\u001b[39m == \u001b[32m1\u001b[39m :\n\u001b[32m----> \u001b[39m\u001b[32m5\u001b[39m   time += \u001b[38;5;28mmin\u001b[39m(\u001b[43msolve\u001b[49m\u001b[43m(\u001b[49m\u001b[43mnow\u001b[49m\u001b[43m,\u001b[49m\u001b[43mtarget\u001b[49m\u001b[43m+\u001b[49m\u001b[32;43m1\u001b[39;49m\u001b[43m)\u001b[49m,solve(now,target-\u001b[32m1\u001b[39m)) + \u001b[32m1\u001b[39m \n\u001b[32m      6\u001b[39m \u001b[38;5;28;01melse\u001b[39;00m:\n\u001b[32m      7\u001b[39m   now //= \u001b[32m2\u001b[39m\n",
      "    \u001b[31m[... skipping similar frames: solve at line 5 (8 times)]\u001b[39m\n",
      "\u001b[36mCell\u001b[39m\u001b[36m \u001b[39m\u001b[32mIn[1]\u001b[39m\u001b[32m, line 5\u001b[39m, in \u001b[36msolve\u001b[39m\u001b[34m(now, target)\u001b[39m\n\u001b[32m      3\u001b[39m time=\u001b[32m0\u001b[39m\n\u001b[32m      4\u001b[39m \u001b[38;5;28;01mif\u001b[39;00m now%\u001b[32m2\u001b[39m == \u001b[32m1\u001b[39m :\n\u001b[32m----> \u001b[39m\u001b[32m5\u001b[39m   time += \u001b[38;5;28mmin\u001b[39m(\u001b[43msolve\u001b[49m\u001b[43m(\u001b[49m\u001b[43mnow\u001b[49m\u001b[43m,\u001b[49m\u001b[43mtarget\u001b[49m\u001b[43m+\u001b[49m\u001b[32;43m1\u001b[39;49m\u001b[43m)\u001b[49m,solve(now,target-\u001b[32m1\u001b[39m)) + \u001b[32m1\u001b[39m \n\u001b[32m      6\u001b[39m \u001b[38;5;28;01melse\u001b[39;00m:\n\u001b[32m      7\u001b[39m   now //= \u001b[32m2\u001b[39m\n",
      "\u001b[36mCell\u001b[39m\u001b[36m \u001b[39m\u001b[32mIn[1]\u001b[39m\u001b[32m, line 8\u001b[39m, in \u001b[36msolve\u001b[39m\u001b[34m(now, target)\u001b[39m\n\u001b[32m      6\u001b[39m   \u001b[38;5;28;01melse\u001b[39;00m:\n\u001b[32m      7\u001b[39m     now //= \u001b[32m2\u001b[39m\n\u001b[32m----> \u001b[39m\u001b[32m8\u001b[39m \u001b[38;5;28;01mreturn\u001b[39;00m \u001b[43mtime\u001b[49m\n",
      "\u001b[31mUnboundLocalError\u001b[39m: cannot access local variable 'time' where it is not associated with a value"
     ]
    }
   ],
   "source": [
    "def solve(now,target) :\n",
    "  while now != target :\n",
    "    time=0\n",
    "    if now%2 == 1 :\n",
    "      time += min(solve(now,target+1),solve(now,target-1)) + 1 \n",
    "    else:\n",
    "      now //= 2\n",
    "  return time\n",
    "\n",
    "N,K=map(int,input().split())\n",
    "\n",
    "if N > K :\n",
    "  now=N\n",
    "  target=K\n",
    "else :\n",
    "  now=K\n",
    "  target=N\n",
    "if now % 2==1:\n",
    "  result=min(solve(now,target+1),solve(now,target-1))\n",
    "  result += 1\n",
    "else:\n",
    "  result=solve(now,target)\n",
    "  \n",
    "print(result)"
   ]
  }
 ],
 "metadata": {
  "kernelspec": {
   "display_name": "Python 3",
   "language": "python",
   "name": "python3"
  },
  "language_info": {
   "codemirror_mode": {
    "name": "ipython",
    "version": 3
   },
   "file_extension": ".py",
   "mimetype": "text/x-python",
   "name": "python",
   "nbconvert_exporter": "python",
   "pygments_lexer": "ipython3",
   "version": "3.11.9"
  }
 },
 "nbformat": 4,
 "nbformat_minor": 2
}
