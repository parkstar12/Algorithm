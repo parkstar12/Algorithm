{
 "cells": [
  {
   "cell_type": "code",
   "execution_count": null,
   "id": "e8fd5ab4",
   "metadata": {},
   "outputs": [
    {
     "name": "stdout",
     "output_type": "stream",
     "text": [
      "[-1, -1, 1, 2, 2, 1, -1]\n"
     ]
    }
   ],
   "source": [
    "N=int(input())\n",
    "number=list(map(int,input().split()))\n",
    "count={}\n",
    "for i in number:\n",
    "  if i in count:\n",
    "    count[i]+=1\n",
    "  else:\n",
    "    count[i]=1\n",
    "\n",
    "result=[-1]*N\n",
    "stack=[]\n",
    "for i in range(N):\n",
    "  while stack and count[number[stack[-1]]] < count[number[i]]:\n",
    "      idx = stack.pop()\n",
    "      result[idx] = number[i]\n",
    "  stack.append(i)\n",
    "print(*result)\n",
    "\n"
   ]
  }
 ],
 "metadata": {
  "kernelspec": {
   "display_name": "Python 3",
   "language": "python",
   "name": "python3"
  },
  "language_info": {
   "codemirror_mode": {
    "name": "ipython",
    "version": 3
   },
   "file_extension": ".py",
   "mimetype": "text/x-python",
   "name": "python",
   "nbconvert_exporter": "python",
   "pygments_lexer": "ipython3",
   "version": "3.13.2"
  }
 },
 "nbformat": 4,
 "nbformat_minor": 5
}
