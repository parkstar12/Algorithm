{
 "cells": [
  {
   "cell_type": "code",
   "execution_count": 24,
   "metadata": {},
   "outputs": [
    {
     "name": "stdout",
     "output_type": "stream",
     "text": [
      "3\n"
     ]
    }
   ],
   "source": [
    "from collections import deque\n",
    "\n",
    "M,N=map(int,input().split())\n",
    "box=[list(map(int,input().split())) for _ in range(N)]\n",
    "start_index=deque()\n",
    "\n",
    "dx=[0,0,-1,1]\n",
    "dy=[1,-1,0,0]\n",
    "\n",
    "for a in range(N):\n",
    "  for b in range(M):\n",
    "    if box[a][b] == 1 :\n",
    "      start_index.append((a,b))\n",
    "\n",
    "while start_index :\n",
    "  x,y = start_index.popleft() #3,5\n",
    "  for i in range(4) :\n",
    "    nx, ny = x + dx[i], y + dy[i]\n",
    "    \n",
    "    if 0 <= nx < N and 0 <= ny < M and box[nx][ny] == 0:\n",
    "      box[x+dx[i]][y+dy[i]] = box[x][y] + 1\n",
    "      start_index.append((x+dx[i],y+dy[i]))\n",
    "\n",
    "if any(0 in row for row in box):\n",
    "  print(-1)\n",
    "else:\n",
    "  print( (max(max(row) for row in box)) -1 )"
   ]
  }
 ],
 "metadata": {
  "kernelspec": {
   "display_name": "Python 3",
   "language": "python",
   "name": "python3"
  },
  "language_info": {
   "codemirror_mode": {
    "name": "ipython",
    "version": 3
   },
   "file_extension": ".py",
   "mimetype": "text/x-python",
   "name": "python",
   "nbconvert_exporter": "python",
   "pygments_lexer": "ipython3",
   "version": "3.11.9"
  }
 },
 "nbformat": 4,
 "nbformat_minor": 2
}
