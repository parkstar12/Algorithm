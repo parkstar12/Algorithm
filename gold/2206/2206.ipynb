{
 "cells": [
  {
   "cell_type": "code",
   "execution_count": null,
   "metadata": {},
   "outputs": [
    {
     "name": "stdout",
     "output_type": "stream",
     "text": [
      "-1\n"
     ]
    }
   ],
   "source": [
    "from collections import deque\n",
    "\n",
    "def solve(x, y):\n",
    "    queue = deque()\n",
    "    queue.append((x, y, 0, 1))  # (x좌표, y좌표, 벽 부순 여부, 이동 거리)\n",
    "\n",
    "    while queue:\n",
    "        nx, ny, count, walk = queue.popleft()\n",
    "\n",
    "        # 목표 지점 도달 시 최단 거리 반환\n",
    "        if nx == N-1 and ny == M-1:\n",
    "            return walk\n",
    "\n",
    "        for i in range(4):\n",
    "            xx = nx + dx[i]\n",
    "            yy = ny + dy[i]\n",
    "\n",
    "            # 범위 확인\n",
    "            if 0 <= xx < N and 0 <= yy < M:\n",
    "                # 벽이 아니고 방문한 적 없는 경우\n",
    "                if board[xx][yy] == 0 and not visited[xx][yy][count]:\n",
    "                    visited[xx][yy][count] = True\n",
    "                    queue.append((xx, yy, count, walk + 1))\n",
    "\n",
    "                # 벽이지만 한 번도 부순 적이 없는 경우\n",
    "                elif board[xx][yy] == 1 and count == 0 and not visited[xx][yy][1]:\n",
    "                    visited[xx][yy][1] = True\n",
    "                    queue.append((xx, yy, 1, walk + 1))\n",
    "\n",
    "    return -1  # 도달할 수 없는 경우\n",
    "\n",
    "N, M = map(int, input().split())\n",
    "board = [list(map(int, input())) for _ in range(N)]\n",
    "\n",
    "# [x][y][벽 부순 여부]를 관리하는 3차원 visited 배열\n",
    "visited = [[[False] * 2 for _ in range(M)] for _ in range(N)]\n",
    "visited[0][0][0] = True  # 시작점 방문 처리 (벽을 부수지 않은 상태)\n",
    "\n",
    "dx = [0, 0, 1, -1]\n",
    "dy = [1, -1, 0, 0]\n",
    "\n",
    "result = solve(0, 0)\n",
    "print(result)\n"
   ]
  }
 ],
 "metadata": {
  "kernelspec": {
   "display_name": "Python 3",
   "language": "python",
   "name": "python3"
  },
  "language_info": {
   "codemirror_mode": {
    "name": "ipython",
    "version": 3
   },
   "file_extension": ".py",
   "mimetype": "text/x-python",
   "name": "python",
   "nbconvert_exporter": "python",
   "pygments_lexer": "ipython3",
   "version": "3.11.9"
  }
 },
 "nbformat": 4,
 "nbformat_minor": 2
}
