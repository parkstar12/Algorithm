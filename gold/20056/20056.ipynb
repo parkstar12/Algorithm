{
 "cells": [
  {
   "cell_type": "code",
   "execution_count": null,
   "id": "e887d692",
   "metadata": {},
   "outputs": [],
   "source": [
    "def move():\n",
    "\n",
    "\n",
    "N,M,K=map(int,input().split())\n",
    "fire_ball=[]\n",
    "dx=[0,1,1,1,0,-1,-1,-1]\n",
    "dy=[1,1,0,-1,-1,-1,0,1]\n",
    "boad\n",
    "for _ in range(M):\n",
    "  r,c,m,s,d=map(int,input().split())\n",
    "  fire_ball.append([r,c,m,s,d])\n",
    "for i in range(K):\n",
    "  move()\n"
   ]
  }
 ],
 "metadata": {
  "language_info": {
   "name": "python"
  }
 },
 "nbformat": 4,
 "nbformat_minor": 5
}
