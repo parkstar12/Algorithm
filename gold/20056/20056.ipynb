{
 "cells": [
  {
   "cell_type": "code",
   "execution_count": null,
   "id": "e887d692",
   "metadata": {},
   "outputs": [
    {
     "name": "stdout",
     "output_type": "stream",
     "text": [
      "8\n"
     ]
    }
   ],
   "source": [
    "def move():\n",
    "    while fire_ball:\n",
    "        r, c, m, s, d = fire_ball.pop()\n",
    "        board[r][c].remove([m, s, d])\n",
    "        r = (r + dy[d] * s) % N\n",
    "        c = (c + dx[d] * s) % N\n",
    "        board[r][c].append([m, s, d])\n",
    "    # 이동 다 끝난 후에 겹친 좌표만 stack에 넣기\n",
    "    for i in range(N):\n",
    "        for j in range(N):\n",
    "            if len(board[i][j]) > 1:\n",
    "              stack.append([i, j])\n",
    "            elif len(board[i][j]) == 1:\n",
    "              m, s, d = board[i][j][0]\n",
    "              arr.append([i, j, m, s, d])\n",
    "\n",
    "def split_ball():\n",
    "  while stack:\n",
    "    sum_m=0\n",
    "    sum_s=0\n",
    "    sum_d=0\n",
    "    r,c=stack.pop()\n",
    "    ball_list=board[r][c][:]\n",
    "    board[r][c].clear()\n",
    "    ball_long=len(ball_list)\n",
    "\n",
    "    for ball in ball_list:\n",
    "      sum_m += ball[0]\n",
    "      sum_s += ball[1]\n",
    "      sum_d += ball[2] % 2\n",
    "    mm=sum_m//5\n",
    "    if mm == 0:\n",
    "      continue\n",
    "    ss=sum_s//ball_long\n",
    "\n",
    "    if sum_d == 0 or sum_d == ball_long:\n",
    "      for a in d1:\n",
    "        arr.append([r,c,mm,ss,a])\n",
    "        board[r][c].append([mm, ss, a])\n",
    "\n",
    "    else :\n",
    "      for b in d2:\n",
    "        arr.append([r,c,mm,ss,b])\n",
    "        board[r][c].append([mm, ss, b])\n",
    "\n",
    "N,M,K=map(int,input().split())\n",
    "fire_ball=[]\n",
    "dx=[0,1,1,1,0,-1,-1,-1]\n",
    "dy=[1,1,0,-1,-1,-1,0,1]\n",
    "d1=[0,2,4,6]\n",
    "d2=[1,3,5,7]\n",
    "arr=[]\n",
    "stack=[]\n",
    "result=0\n",
    "board=[[[] for _ in range(N)] for _ in range(N)]\n",
    "for _ in range(M):\n",
    "  r,c,m,s,d=map(int,input().split())\n",
    "  arr.append([r-1,c-1,m,s,d])\n",
    "  board[r-1][c-1].append([m,s,d])\n",
    "\n",
    "for _ in range(K):\n",
    "  fire_ball = arr[:]\n",
    "  arr.clear()\n",
    "  move()\n",
    "  if stack:\n",
    "    split_ball()\n",
    "while arr:\n",
    "  r,c,m,s,d=arr.pop()\n",
    "  result+=m\n",
    "print(result)"
   ]
  }
 ],
 "metadata": {
  "kernelspec": {
   "display_name": "Python 3",
   "language": "python",
   "name": "python3"
  },
  "language_info": {
   "codemirror_mode": {
    "name": "ipython",
    "version": 3
   },
   "file_extension": ".py",
   "mimetype": "text/x-python",
   "name": "python",
   "nbconvert_exporter": "python",
   "pygments_lexer": "ipython3",
   "version": "3.13.2"
  }
 },
 "nbformat": 4,
 "nbformat_minor": 5
}
