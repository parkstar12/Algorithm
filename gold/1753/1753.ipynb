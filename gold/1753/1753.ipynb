{
 "cells": [
  {
   "cell_type": "code",
   "execution_count": null,
   "metadata": {},
   "outputs": [
    {
     "ename": "RecursionError",
     "evalue": "maximum recursion depth exceeded in comparison",
     "output_type": "error",
     "traceback": [
      "\u001b[31m---------------------------------------------------------------------------\u001b[39m",
      "\u001b[31mRecursionError\u001b[39m                            Traceback (most recent call last)",
      "\u001b[36mCell\u001b[39m\u001b[36m \u001b[39m\u001b[32mIn[13]\u001b[39m\u001b[32m, line 20\u001b[39m\n\u001b[32m     17\u001b[39m     graph[u]=[]\n\u001b[32m     18\u001b[39m   graph[u].append((v,w))\n\u001b[32m---> \u001b[39m\u001b[32m20\u001b[39m \u001b[43msolve\u001b[49m\u001b[43m(\u001b[49m\u001b[43mstart\u001b[49m\u001b[43m,\u001b[49m\u001b[32;43m0\u001b[39;49m\u001b[43m)\u001b[49m\n\u001b[32m     21\u001b[39m \u001b[38;5;28;01mfor\u001b[39;00m i \u001b[38;5;129;01min\u001b[39;00m \u001b[38;5;28mrange\u001b[39m (V) :\n\u001b[32m     22\u001b[39m   \u001b[38;5;28;01mif\u001b[39;00m (i+\u001b[32m1\u001b[39m) == start:\n",
      "\u001b[36mCell\u001b[39m\u001b[36m \u001b[39m\u001b[32mIn[13]\u001b[39m\u001b[32m, line 6\u001b[39m, in \u001b[36msolve\u001b[39m\u001b[34m(vertex, value)\u001b[39m\n\u001b[32m      4\u001b[39m sum_value += next_value\n\u001b[32m      5\u001b[39m result[\u001b[38;5;28mnext\u001b[39m-\u001b[32m1\u001b[39m]=\u001b[38;5;28mmin\u001b[39m(result[\u001b[38;5;28mnext\u001b[39m-\u001b[32m1\u001b[39m],sum_value)\n\u001b[32m----> \u001b[39m\u001b[32m6\u001b[39m \u001b[43msolve\u001b[49m\u001b[43m(\u001b[49m\u001b[38;5;28;43mnext\u001b[39;49m\u001b[43m,\u001b[49m\u001b[43msum_value\u001b[49m\u001b[43m)\u001b[49m\n",
      "\u001b[36mCell\u001b[39m\u001b[36m \u001b[39m\u001b[32mIn[13]\u001b[39m\u001b[32m, line 6\u001b[39m, in \u001b[36msolve\u001b[39m\u001b[34m(vertex, value)\u001b[39m\n\u001b[32m      4\u001b[39m sum_value += next_value\n\u001b[32m      5\u001b[39m result[\u001b[38;5;28mnext\u001b[39m-\u001b[32m1\u001b[39m]=\u001b[38;5;28mmin\u001b[39m(result[\u001b[38;5;28mnext\u001b[39m-\u001b[32m1\u001b[39m],sum_value)\n\u001b[32m----> \u001b[39m\u001b[32m6\u001b[39m \u001b[43msolve\u001b[49m\u001b[43m(\u001b[49m\u001b[38;5;28;43mnext\u001b[39;49m\u001b[43m,\u001b[49m\u001b[43msum_value\u001b[49m\u001b[43m)\u001b[49m\n",
      "    \u001b[31m[... skipping similar frames: solve at line 6 (2968 times)]\u001b[39m\n",
      "\u001b[36mCell\u001b[39m\u001b[36m \u001b[39m\u001b[32mIn[13]\u001b[39m\u001b[32m, line 6\u001b[39m, in \u001b[36msolve\u001b[39m\u001b[34m(vertex, value)\u001b[39m\n\u001b[32m      4\u001b[39m sum_value += next_value\n\u001b[32m      5\u001b[39m result[\u001b[38;5;28mnext\u001b[39m-\u001b[32m1\u001b[39m]=\u001b[38;5;28mmin\u001b[39m(result[\u001b[38;5;28mnext\u001b[39m-\u001b[32m1\u001b[39m],sum_value)\n\u001b[32m----> \u001b[39m\u001b[32m6\u001b[39m \u001b[43msolve\u001b[49m\u001b[43m(\u001b[49m\u001b[38;5;28;43mnext\u001b[39;49m\u001b[43m,\u001b[49m\u001b[43msum_value\u001b[49m\u001b[43m)\u001b[49m\n",
      "\u001b[36mCell\u001b[39m\u001b[36m \u001b[39m\u001b[32mIn[13]\u001b[39m\u001b[32m, line 5\u001b[39m, in \u001b[36msolve\u001b[39m\u001b[34m(vertex, value)\u001b[39m\n\u001b[32m      3\u001b[39m sum_value = value\n\u001b[32m      4\u001b[39m sum_value += next_value\n\u001b[32m----> \u001b[39m\u001b[32m5\u001b[39m result[\u001b[38;5;28mnext\u001b[39m-\u001b[32m1\u001b[39m]=\u001b[38;5;28;43mmin\u001b[39;49m\u001b[43m(\u001b[49m\u001b[43mresult\u001b[49m\u001b[43m[\u001b[49m\u001b[38;5;28;43mnext\u001b[39;49m\u001b[43m-\u001b[49m\u001b[32;43m1\u001b[39;49m\u001b[43m]\u001b[49m\u001b[43m,\u001b[49m\u001b[43msum_value\u001b[49m\u001b[43m)\u001b[49m\n\u001b[32m      6\u001b[39m solve(\u001b[38;5;28mnext\u001b[39m,sum_value)\n",
      "\u001b[31mRecursionError\u001b[39m: maximum recursion depth exceeded in comparison"
     ]
    }
   ],
   "source": [
    "import heapq\n",
    "\n",
    "def dijkstra(start):\n",
    "    # 우선순위 큐 (힙)를 사용하여 최소 비용으로 노드를 탐색\n",
    "    pq = []\n",
    "    heapq.heappush(pq, (0, start))  # (비용, 노드)\n",
    "    result[start - 1] = 0  # 시작 노드의 비용은 0\n",
    "\n",
    "    while pq:\n",
    "        current_cost, vertex = heapq.heappop(pq)\n",
    "        \n",
    "        # 이미 처리된 노드는 다시 처리하지 않음\n",
    "        if current_cost > result[vertex - 1]:\n",
    "            continue\n",
    "        \n",
    "        # 인접 노드 탐색\n",
    "        for next, next_value in graph[vertex]:\n",
    "            sum_value = current_cost + next_value\n",
    "            if sum_value < result[next - 1]:\n",
    "                result[next - 1] = sum_value\n",
    "                heapq.heappush(pq, (sum_value, next))\n",
    "\n",
    "V, E = map(int, input().split())\n",
    "start = int(input())\n",
    "\n",
    "graph = {i: [] for i in range(1, V + 1)}\n",
    "result = [float('inf')] * V\n",
    "\n",
    "for _ in range(E):\n",
    "    u, v, w = map(int, input().split())\n",
    "    graph[u].append((v, w))\n",
    "\n",
    "dijkstra(start)  # 다익스트라 알고리즘 실행\n",
    "\n",
    "# 결과 출력\n",
    "for i in range(V):\n",
    "    print(result[i] if result[i] != float('inf') else \"INF\")\n"
   ]
  }
 ],
 "metadata": {
  "kernelspec": {
   "display_name": "Python 3",
   "language": "python",
   "name": "python3"
  },
  "language_info": {
   "codemirror_mode": {
    "name": "ipython",
    "version": 3
   },
   "file_extension": ".py",
   "mimetype": "text/x-python",
   "name": "python",
   "nbconvert_exporter": "python",
   "pygments_lexer": "ipython3",
   "version": "3.11.9"
  }
 },
 "nbformat": 4,
 "nbformat_minor": 2
}
