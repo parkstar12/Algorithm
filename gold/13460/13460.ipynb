{
 "cells": [
  {
   "cell_type": "code",
   "execution_count": null,
   "id": "80357471",
   "metadata": {},
   "outputs": [],
   "source": [
    "# 코드 구성\n",
    "# N,M 입력받기\n",
    "# board 입력받기\n",
    "# stack=[]\n",
    "# stack에 초기 R값 추가\n",
    "# def move:\n",
    "#\n",
    "#   #을 만나면 멈춤, B,R을 만나면 flag=1해서 이동할 수 있는 좌표에 -1\n",
    "#   for i in range(4):   R을 기준으로 4방향 탐색\n",
    "#     dx,dy리스트 사용\n",
    "#       움직일 수 있는 경로가 있으면 stack에 추가\n",
    "#\n",
    "# while  stack:\n",
    "#   move()\n",
    "#  if stack:\n",
    "# \n",
    "# 자료구조\n",
    "\n",
    "# 고려사항\n",
    "# R을 기준으로 움직일 경우 B가 먼저 들어가면 break\n",
    "\n",
    "# 고민\n",
    "# stack에 기울일 방향을 어떤 방식으로 추가 할건가?\n",
    "# bfs로? dfs?\n",
    "# 구슬이 움직일 때 경로상에 B,R이 있으면 어떻게 처리 할건지?\n",
    "\n",
    "# 생각과정\n",
    "# B,R을 따로 관리해야 할 것 같다.(R을 기준으로 )\n",
    "# 방향 리스트 미리 선언\n",
    "# "
   ]
  },
  {
   "cell_type": "code",
   "execution_count": null,
   "id": "6667fe42",
   "metadata": {},
   "outputs": [
    {
     "name": "stdout",
     "output_type": "stream",
     "text": [
      "[['#', '#', '#', '#', '#'], ['#', '.', '.', 'B', '#'], ['#', '.', '#', '.', '#'], ['#', 'R', '0', '.', '#'], ['#', '#', '#', '#', '#']]\n"
     ]
    }
   ],
   "source": [
    "N,M=map(int,input().split())\n",
    "board = []\n",
    "rx = ry = bx = by = -1       # R, B 좌표를 미리 초기화해 둡니다.\n",
    "stack=[]\n",
    "dx=[0,1,0,-1]\n",
    "dy=[1,0,-1,0]\n",
    "\n",
    "for i in range(N):              # i = 행(세로) 인덱스\n",
    "    row = list(input().strip()) # 한 줄 읽어서 문자 리스트로 변환\n",
    "    board.append(row)\n",
    "    for j, ch in enumerate(row):   # j = 열(가로) 인덱스 enumerate => 인덱스와 값을 포함하여 리턴\n",
    "        if ch == 'R':\n",
    "            rx, ry = i, j          # R 좌표 저장\n",
    "        elif ch == 'B':\n",
    "            bx, by = i, j \n",
    "\n",
    "while 1:\n",
    "  for d in range(4):\n",
    "    while 1 :\n",
    "      n_rx=rx+dx[i]\n",
    "      n_ry=ry+dy[i]\n",
    "      if 0 <= n_rx < N and 0 <= n_ry < M:\n",
    "        if board[n_rx][n_ry] == '#':\n",
    "          break\n",
    "        elif\n",
    "      board[rx+dx[d]][ry+dy[d]]\n"
   ]
  },
  {
   "cell_type": "code",
   "execution_count": null,
   "id": "0109f5b1",
   "metadata": {},
   "outputs": [
    {
     "name": "stdout",
     "output_type": "stream",
     "text": [
      "94\n"
     ]
    }
   ],
   "source": [
    "def dfs(number,try_count):\n",
    "  global count,result,M\n",
    "  if try_count==count:\n",
    "    max_num=int(''.join(map(str, number)))\n",
    "    result = max(result, max_num)\n",
    "  for i in range(M):\n",
    "    for j in range(i,M):\n",
    "      number[i], number[j] = number[j], number[i]\n",
    "      dfs(number,try_count+1)\n",
    "      number[i], number[j] = number[j], number[i]\n",
    "  return\n",
    "\n",
    "T=int(input())\n",
    "for _ in range(T):\n",
    "  num,count=map(int,input().split())\n",
    "  number=[]\n",
    "  number=list(map(int,str(num)))\n",
    "  M=len(number)\n",
    "  try_count=0\n",
    "  result=0\n",
    "  dfs(number,try_count)\n",
    "  print(result)"
   ]
  }
 ],
 "metadata": {
  "kernelspec": {
   "display_name": "Python 3",
   "language": "python",
   "name": "python3"
  },
  "language_info": {
   "codemirror_mode": {
    "name": "ipython",
    "version": 3
   },
   "file_extension": ".py",
   "mimetype": "text/x-python",
   "name": "python",
   "nbconvert_exporter": "python",
   "pygments_lexer": "ipython3",
   "version": "3.11.9"
  }
 },
 "nbformat": 4,
 "nbformat_minor": 5
}
